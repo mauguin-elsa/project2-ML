{
 "cells": [
  {
   "cell_type": "markdown",
   "metadata": {},
   "source": [
    "### Sentiment Analysis\n",
    "\n",
    "For this classification task, we also thought of using Sentiment analysis library because we are trying to predict if a tweet is going to have a happy or sad smiley and therefore it is related to the sentiment of the tweet. This method is unsupervised as it does not need labeled tweets to be trained with. It reads the tweets, analyzes if it is mostly a positive or negative tweet and according to the results, defines which smiley it will correspond to. The model is not very efficient as it needs to run through all the tweets and it akes about 5min to run for 10k tweets. Nevertheless, the model is really simple and has an accuracy of 0.64 on Aicrowd."
   ]
  },
  {
   "cell_type": "code",
   "execution_count": 1,
   "metadata": {},
   "outputs": [],
   "source": [
    "import vaderSentiment\n",
    "from vaderSentiment.vaderSentiment import SentimentIntensityAnalyzer\n",
    "from preprocessing_final import pre_process\n",
    "from helpers import *"
   ]
  },
  {
   "cell_type": "code",
   "execution_count": 2,
   "metadata": {},
   "outputs": [],
   "source": [
    "def sentiment_analysis(small_train):\n",
    "    y_pred=[]\n",
    "    for i in range(len(small_train)):\n",
    "        y=':('\n",
    "        quote=small_train[i]\n",
    "        analyzer = SentimentIntensityAnalyzer()\n",
    "        vs = analyzer.polarity_scores(quote)\n",
    "        if(vs['neg']<vs['pos']):\n",
    "            y=':)'\n",
    "        if(vs['neg']>vs['pos']):\n",
    "            y=':('\n",
    "        y_pred.append(y)\n",
    "        \n",
    "    return y_pred"
   ]
  },
  {
   "cell_type": "code",
   "execution_count": 3,
   "metadata": {},
   "outputs": [],
   "source": [
    "with open('twitter-datasets/test_data.txt') as f:\n",
    "    real_test = f.readlines()\n",
    "real_test={'data':real_test}\n",
    "real_test=pd.DataFrame(real_test)"
   ]
  },
  {
   "cell_type": "code",
   "execution_count": 4,
   "metadata": {},
   "outputs": [
    {
     "data": {
      "text/html": [
       "<div>\n",
       "<style scoped>\n",
       "    .dataframe tbody tr th:only-of-type {\n",
       "        vertical-align: middle;\n",
       "    }\n",
       "\n",
       "    .dataframe tbody tr th {\n",
       "        vertical-align: top;\n",
       "    }\n",
       "\n",
       "    .dataframe thead th {\n",
       "        text-align: right;\n",
       "    }\n",
       "</style>\n",
       "<table border=\"1\" class=\"dataframe\">\n",
       "  <thead>\n",
       "    <tr style=\"text-align: right;\">\n",
       "      <th></th>\n",
       "      <th>data</th>\n",
       "    </tr>\n",
       "  </thead>\n",
       "  <tbody>\n",
       "    <tr>\n",
       "      <th>4096</th>\n",
       "      <td>4097 take prom harry ! bring friend me</td>\n",
       "    </tr>\n",
       "    <tr>\n",
       "      <th>892</th>\n",
       "      <td>893 can never get date a night owl i  negative...</td>\n",
       "    </tr>\n",
       "    <tr>\n",
       "      <th>6026</th>\n",
       "      <td>6027 ulti amate fighting championship classics...</td>\n",
       "    </tr>\n",
       "    <tr>\n",
       "      <th>8235</th>\n",
       "      <td>8236 starving there food take away sounds  pos...</td>\n",
       "    </tr>\n",
       "    <tr>\n",
       "      <th>5335</th>\n",
       "      <td>5336 not go school today spent whole day w | bae</td>\n",
       "    </tr>\n",
       "    <tr>\n",
       "      <th>7975</th>\n",
       "      <td>7976 ie7 users please note ! previous access  ...</td>\n",
       "    </tr>\n",
       "    <tr>\n",
       "      <th>6742</th>\n",
       "      <td>6743 aww yeah eco  positive pretty  negative h...</td>\n",
       "    </tr>\n",
       "    <tr>\n",
       "      <th>9074</th>\n",
       "      <td>9075  negative miss speeches alot tho</td>\n",
       "    </tr>\n",
       "    <tr>\n",
       "      <th>7550</th>\n",
       "      <td>7551 monk alone : complete solo studio recordi...</td>\n",
       "    </tr>\n",
       "    <tr>\n",
       "      <th>8697</th>\n",
       "      <td>8698 kyky  positive like \" leah ! school bouta...</td>\n",
       "    </tr>\n",
       "    <tr>\n",
       "      <th>9421</th>\n",
       "      <td>9422 lovin reeces came  positive free the city...</td>\n",
       "    </tr>\n",
       "    <tr>\n",
       "      <th>8867</th>\n",
       "      <td>8868 to play charades my fami  positive love #...</td>\n",
       "    </tr>\n",
       "    <tr>\n",
       "      <th>7933</th>\n",
       "      <td>7934 ah evet bebii u'r  positive lucky have ) ) )</td>\n",
       "    </tr>\n",
       "    <tr>\n",
       "      <th>3843</th>\n",
       "      <td>3844 ordered tickets while ago they havent cam...</td>\n",
       "    </tr>\n",
       "    <tr>\n",
       "      <th>5192</th>\n",
       "      <td>5193 sicker a mf ( ( (</td>\n",
       "    </tr>\n",
       "  </tbody>\n",
       "</table>\n",
       "</div>"
      ],
      "text/plain": [
       "                                                   data\n",
       "4096             4097 take prom harry ! bring friend me\n",
       "892   893 can never get date a night owl i  negative...\n",
       "6026  6027 ulti amate fighting championship classics...\n",
       "8235  8236 starving there food take away sounds  pos...\n",
       "5335   5336 not go school today spent whole day w | bae\n",
       "7975  7976 ie7 users please note ! previous access  ...\n",
       "6742  6743 aww yeah eco  positive pretty  negative h...\n",
       "9074              9075  negative miss speeches alot tho\n",
       "7550  7551 monk alone : complete solo studio recordi...\n",
       "8697  8698 kyky  positive like \" leah ! school bouta...\n",
       "9421  9422 lovin reeces came  positive free the city...\n",
       "8867  8868 to play charades my fami  positive love #...\n",
       "7933  7934 ah evet bebii u'r  positive lucky have ) ) )\n",
       "3843  3844 ordered tickets while ago they havent cam...\n",
       "5192                             5193 sicker a mf ( ( ("
      ]
     },
     "execution_count": 4,
     "metadata": {},
     "output_type": "execute_result"
    }
   ],
   "source": [
    "real_test.data=pre_process(real_test.data)\n",
    "real_test.sample(15)"
   ]
  },
  {
   "cell_type": "code",
   "execution_count": 5,
   "metadata": {},
   "outputs": [],
   "source": [
    "import re\n",
    "ids=[]   \n",
    "for i in range (len(real_test)):\n",
    "    text=real_test.data[i]\n",
    "    found=re.findall('\\d+', text )\n",
    "    ids.append(found[0])\n"
   ]
  },
  {
   "cell_type": "code",
   "execution_count": 17,
   "metadata": {},
   "outputs": [],
   "source": [
    "OUTPUT_PATH = 'sample_submission.csv' \n",
    "create_csv_submission(ids, y_pred, OUTPUT_PATH)"
   ]
  },
  {
   "cell_type": "code",
   "execution_count": 7,
   "metadata": {},
   "outputs": [],
   "source": [
    "y_pred=sentiment_analysis(real_test.data)"
   ]
  },
  {
   "cell_type": "code",
   "execution_count": null,
   "metadata": {},
   "outputs": [],
   "source": []
  }
 ],
 "metadata": {
  "kernelspec": {
   "display_name": "Python 3",
   "language": "python",
   "name": "python3"
  },
  "language_info": {
   "codemirror_mode": {
    "name": "ipython",
    "version": 3
   },
   "file_extension": ".py",
   "mimetype": "text/x-python",
   "name": "python",
   "nbconvert_exporter": "python",
   "pygments_lexer": "ipython3",
   "version": "3.8.5"
  }
 },
 "nbformat": 4,
 "nbformat_minor": 4
}
