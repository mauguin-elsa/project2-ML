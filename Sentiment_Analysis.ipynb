{
 "cells": [
  {
   "cell_type": "markdown",
   "metadata": {},
   "source": [
    "### Sentiment Analysis\n",
    "\n",
    "For this classification task, we also thought of using Sentiment analysis library because we are trying to predict if a tweet is going to have a happy or sad smiley and therefore it is related to the sentiment of the tweet. This method is unsupervised as it does not need labeled tweets to be trained with. It reads the tweets, analyzes if it is mostly a positive or negative tweet and according to the results, defines which smiley it will correspond to. The model is not very efficient as it needs to run through all the tweets and it akes about 5min to run for 10k tweets. Nevertheless, the model is really simple and has an accuracy of 0.64 on Aicrowd."
   ]
  },
  {
   "cell_type": "code",
   "execution_count": 1,
   "metadata": {},
   "outputs": [],
   "source": [
    "import vaderSentiment\n",
    "from vaderSentiment.vaderSentiment import SentimentIntensityAnalyzer"
   ]
  },
  {
   "cell_type": "code",
   "execution_count": 2,
   "metadata": {},
   "outputs": [],
   "source": [
    "def sentiment_analysis(small_train):\n",
    "    y_pred=[]\n",
    "    for i in range(len(small_train)):\n",
    "        y=':('\n",
    "        quote=small_train[i]\n",
    "        analyzer = SentimentIntensityAnalyzer()\n",
    "        vs = analyzer.polarity_scores(quote)\n",
    "        if(vs['neg']<vs['pos']):\n",
    "            y=':)'\n",
    "        if(vs['neg']>vs['pos']):\n",
    "            y=':('\n",
    "        y_pred.append(y)\n",
    "        \n",
    "    return y_pred"
   ]
  },
  {
   "cell_type": "code",
   "execution_count": 3,
   "metadata": {},
   "outputs": [],
   "source": [
    "with open('data_/test_data.txt') as f:\n",
    "    test = f.readlines()"
   ]
  },
  {
   "cell_type": "code",
   "execution_count": 4,
   "metadata": {},
   "outputs": [],
   "source": [
    "y_pred=sentiment_analysis(test)"
   ]
  }
 ],
 "metadata": {
  "kernelspec": {
   "display_name": "Python 3",
   "language": "python",
   "name": "python3"
  },
  "language_info": {
   "codemirror_mode": {
    "name": "ipython",
    "version": 3
   },
   "file_extension": ".py",
   "mimetype": "text/x-python",
   "name": "python",
   "nbconvert_exporter": "python",
   "pygments_lexer": "ipython3",
   "version": "3.8.5"
  }
 },
 "nbformat": 4,
 "nbformat_minor": 4
}
