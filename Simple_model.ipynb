{
 "cells": [
  {
   "cell_type": "code",
   "execution_count": 28,
   "metadata": {},
   "outputs": [
    {
     "name": "stdout",
     "output_type": "stream",
     "text": [
      "The autoreload extension is already loaded. To reload it, use:\n",
      "  %reload_ext autoreload\n"
     ]
    }
   ],
   "source": [
    "## Useful starting lines\n",
    "%matplotlib inline\n",
    "import numpy as np\n",
    "import matplotlib.pyplot as plt\n",
    "\n",
    "%load_ext autoreload\n",
    "%autoreload 2\n",
    "import pandas as pd\n",
    "from sklearn.model_selection import train_test_split\n",
    "from sklearn.feature_extraction.text import CountVectorizer\n",
    "from sklearn.feature_extraction.text import TfidfVectorizer\n",
    "from sklearn.feature_extraction.text import TfidfTransformer\n",
    "from sklearn.pipeline import Pipeline\n",
    "from sklearn.linear_model import SGDClassifier\n",
    "from sklearn.linear_model import LogisticRegression\n",
    "from time import time\n",
    "from sklearn.metrics import accuracy_score\n",
    "from sklearn.svm import LinearSVC\n",
    "from sklearn.naive_bayes import MultinomialNB, BernoulliNB\n",
    "from sklearn.linear_model import RidgeClassifier\n",
    "from sklearn.neighbors import NearestCentroid\n",
    "from sklearn.feature_selection import SelectFromModel\n",
    "from sklearn.ensemble import GradientBoostingClassifier"
   ]
  },
  {
   "cell_type": "code",
   "execution_count": 29,
   "metadata": {},
   "outputs": [],
   "source": [
    "from cooc import *\n",
    "from pickle_vocab import *\n",
    "from preprocessing_final import pre_process\n",
    "from helpers import *"
   ]
  },
  {
   "cell_type": "markdown",
   "metadata": {},
   "source": [
    "### Simple models\n",
    "In this file, we tried to train our model very simply, without advanced techniques to encode the tweets."
   ]
  },
  {
   "cell_type": "code",
   "execution_count": 30,
   "metadata": {},
   "outputs": [
    {
     "data": {
      "text/html": [
       "<div>\n",
       "<style scoped>\n",
       "    .dataframe tbody tr th:only-of-type {\n",
       "        vertical-align: middle;\n",
       "    }\n",
       "\n",
       "    .dataframe tbody tr th {\n",
       "        vertical-align: top;\n",
       "    }\n",
       "\n",
       "    .dataframe thead th {\n",
       "        text-align: right;\n",
       "    }\n",
       "</style>\n",
       "<table border=\"1\" class=\"dataframe\">\n",
       "  <thead>\n",
       "    <tr style=\"text-align: right;\">\n",
       "      <th></th>\n",
       "      <th>data</th>\n",
       "      <th>target</th>\n",
       "    </tr>\n",
       "  </thead>\n",
       "  <tbody>\n",
       "    <tr>\n",
       "      <th>93870</th>\n",
       "      <td>&lt;user&gt; loool ! ! ! oh yeah matt , you should'v...</td>\n",
       "      <td>:)</td>\n",
       "    </tr>\n",
       "    <tr>\n",
       "      <th>33713</th>\n",
       "      <td>&lt;user&gt; and ill do the same to you\\n</td>\n",
       "      <td>:)</td>\n",
       "    </tr>\n",
       "    <tr>\n",
       "      <th>171272</th>\n",
       "      <td>&lt;user&gt; shut up , you're a 90 student even with...</td>\n",
       "      <td>:(</td>\n",
       "    </tr>\n",
       "    <tr>\n",
       "      <th>80411</th>\n",
       "      <td>&lt;user&gt; please vote 4 my film the wall of death...</td>\n",
       "      <td>:)</td>\n",
       "    </tr>\n",
       "    <tr>\n",
       "      <th>12444</th>\n",
       "      <td>#yougetmajorpointsif you're great with little ...</td>\n",
       "      <td>:)</td>\n",
       "    </tr>\n",
       "  </tbody>\n",
       "</table>\n",
       "</div>"
      ],
      "text/plain": [
       "                                                     data target\n",
       "93870   <user> loool ! ! ! oh yeah matt , you should'v...     :)\n",
       "33713                 <user> and ill do the same to you\\n     :)\n",
       "171272  <user> shut up , you're a 90 student even with...     :(\n",
       "80411   <user> please vote 4 my film the wall of death...     :)\n",
       "12444   #yougetmajorpointsif you're great with little ...     :)"
      ]
     },
     "execution_count": 30,
     "metadata": {},
     "output_type": "execute_result"
    }
   ],
   "source": [
    "## creating training data\n",
    "full_train=load_data()\n",
    "full_train.sample(5)"
   ]
  },
  {
   "cell_type": "code",
   "execution_count": 31,
   "metadata": {},
   "outputs": [],
   "source": [
    "full_train.data = pre_process(full_train.data)"
   ]
  },
  {
   "cell_type": "code",
   "execution_count": 32,
   "metadata": {},
   "outputs": [],
   "source": [
    "## split the data to train the models with 75% of full_train in train and 25% in test\n",
    "train , test=train_test_split(full_train)"
   ]
  },
  {
   "cell_type": "markdown",
   "metadata": {},
   "source": [
    "### Bayes Classifier"
   ]
  },
  {
   "cell_type": "code",
   "execution_count": 33,
   "metadata": {},
   "outputs": [
    {
     "data": {
      "text/plain": [
       "(150000, 83996)"
      ]
     },
     "execution_count": 33,
     "metadata": {},
     "output_type": "execute_result"
    }
   ],
   "source": [
    "## Extracting features from text files thanks to count vectorizer\n",
    "np.random.seed(43)\n",
    "count_vect = CountVectorizer()\n",
    "X_train_counts = count_vect.fit_transform(train.data)\n",
    "X_train_counts.shape"
   ]
  },
  {
   "cell_type": "code",
   "execution_count": 34,
   "metadata": {},
   "outputs": [
    {
     "data": {
      "text/plain": [
       "(150000, 83996)"
      ]
     },
     "execution_count": 34,
     "metadata": {},
     "output_type": "execute_result"
    }
   ],
   "source": [
    "## TF-IDF matrix creation\n",
    "\n",
    "tfidf_transformer = TfidfTransformer()\n",
    "X_train_tfidf = tfidf_transformer.fit_transform(X_train_counts)\n",
    "X_train_tfidf.shape"
   ]
  },
  {
   "cell_type": "code",
   "execution_count": 35,
   "metadata": {},
   "outputs": [],
   "source": [
    "## Training Naive Bayes (NB) classifier on training data.\n",
    "\n",
    "clf = MultinomialNB().fit(X_train_tfidf, train.target)"
   ]
  },
  {
   "cell_type": "code",
   "execution_count": 36,
   "metadata": {},
   "outputs": [],
   "source": [
    "## pipeline for the model \n",
    "\n",
    "text_clf = Pipeline([('vect', CountVectorizer()), ('tfidf', TfidfTransformer()), ('clf', MultinomialNB())])\n",
    "text_clf = text_clf.fit(train.data, train.target)"
   ]
  },
  {
   "cell_type": "code",
   "execution_count": 37,
   "metadata": {},
   "outputs": [
    {
     "name": "stdout",
     "output_type": "stream",
     "text": [
      "Accuracy of Naive Bayes CLassifier:  0.77118\n"
     ]
    }
   ],
   "source": [
    "## predictions\n",
    "\n",
    "predicted = text_clf.predict(test.data)\n",
    "print('Accuracy of Naive Bayes CLassifier: ', np.mean(predicted == test.target))"
   ]
  },
  {
   "cell_type": "markdown",
   "metadata": {},
   "source": [
    "### SVM"
   ]
  },
  {
   "cell_type": "code",
   "execution_count": 38,
   "metadata": {},
   "outputs": [
    {
     "name": "stdout",
     "output_type": "stream",
     "text": [
      "Accuracy of Support Vector Machine model:  0.80216\n"
     ]
    }
   ],
   "source": [
    "## SVM\n",
    "\n",
    "text_clf_svm = Pipeline([('vect', CountVectorizer()), ('tfidf', TfidfTransformer()),\n",
    "                         ('clf-svm', SGDClassifier(loss='hinge', penalty='l2',alpha=1e-5, max_iter=100, random_state=42))])\n",
    "\n",
    "text_clf_svm = text_clf_svm.fit(train.data, train.target)\n",
    "predicted_svm = text_clf_svm.predict(test.data)\n",
    "print('Accuracy of Support Vector Machine model: ',np.mean(predicted_svm == test.target))"
   ]
  },
  {
   "cell_type": "markdown",
   "metadata": {},
   "source": [
    "For both models, we got quite good accuracy, especially for SVM. Theses models are interesting as they are very simple and efficient."
   ]
  },
  {
   "cell_type": "markdown",
   "metadata": {},
   "source": [
    "### Logistic regression TF-IDF and Count Vectorizer\n"
   ]
  },
  {
   "cell_type": "code",
   "execution_count": 39,
   "metadata": {},
   "outputs": [
    {
     "name": "stdout",
     "output_type": "stream",
     "text": [
      "LogisticRegression(max_iter=1000)\n",
      "\n",
      "\n",
      "Validation result for 10000 features\n",
      "accuracy score: 80.00%\n",
      "train and test time: 11.31s\n",
      "--------------------------------------------------------------------------------\n",
      "Validation result for 20000 features\n",
      "accuracy score: 80.14%\n",
      "train and test time: 11.40s\n",
      "--------------------------------------------------------------------------------\n",
      "Validation result for 30000 features\n",
      "accuracy score: 80.18%\n",
      "train and test time: 10.39s\n",
      "--------------------------------------------------------------------------------\n",
      "Validation result for 40000 features\n",
      "accuracy score: 80.22%\n",
      "train and test time: 24.65s\n",
      "--------------------------------------------------------------------------------\n",
      "Validation result for 50000 features\n",
      "accuracy score: 80.20%\n",
      "train and test time: 9.32s\n",
      "--------------------------------------------------------------------------------\n",
      "Validation result for 60000 features\n",
      "accuracy score: 80.23%\n",
      "train and test time: 10.21s\n",
      "--------------------------------------------------------------------------------\n",
      "Validation result for 70000 features\n",
      "accuracy score: 80.23%\n",
      "train and test time: 10.86s\n",
      "--------------------------------------------------------------------------------\n",
      "Validation result for 80000 features\n",
      "accuracy score: 80.23%\n",
      "train and test time: 12.08s\n",
      "--------------------------------------------------------------------------------\n",
      "Validation result for 90000 features\n",
      "accuracy score: 80.23%\n",
      "train and test time: 13.17s\n",
      "--------------------------------------------------------------------------------\n",
      "Validation result for 100000 features\n",
      "accuracy score: 80.23%\n",
      "train and test time: 11.73s\n",
      "--------------------------------------------------------------------------------\n",
      "LogisticRegression(max_iter=1000)\n",
      "\n",
      "\n",
      "Validation result for 10000 features\n",
      "accuracy score: 80.40%\n",
      "train and test time: 21.16s\n",
      "--------------------------------------------------------------------------------\n",
      "Validation result for 20000 features\n",
      "accuracy score: 80.95%\n",
      "train and test time: 19.44s\n",
      "--------------------------------------------------------------------------------\n",
      "Validation result for 30000 features\n",
      "accuracy score: 81.08%\n",
      "train and test time: 17.89s\n",
      "--------------------------------------------------------------------------------\n",
      "Validation result for 40000 features\n",
      "accuracy score: 81.10%\n",
      "train and test time: 17.29s\n",
      "--------------------------------------------------------------------------------\n",
      "Validation result for 50000 features\n",
      "accuracy score: 81.18%\n",
      "train and test time: 18.74s\n",
      "--------------------------------------------------------------------------------\n",
      "Validation result for 60000 features\n",
      "accuracy score: 81.22%\n",
      "train and test time: 22.36s\n",
      "--------------------------------------------------------------------------------\n",
      "Validation result for 70000 features\n",
      "accuracy score: 81.27%\n",
      "train and test time: 22.49s\n",
      "--------------------------------------------------------------------------------\n",
      "Validation result for 80000 features\n",
      "accuracy score: 81.30%\n",
      "train and test time: 23.02s\n",
      "--------------------------------------------------------------------------------\n",
      "Validation result for 90000 features\n",
      "accuracy score: 81.36%\n",
      "train and test time: 24.51s\n",
      "--------------------------------------------------------------------------------\n",
      "Validation result for 100000 features\n",
      "accuracy score: 81.31%\n",
      "train and test time: 23.40s\n",
      "--------------------------------------------------------------------------------\n",
      "LogisticRegression(max_iter=1000)\n",
      "\n",
      "\n",
      "Validation result for 10000 features\n",
      "accuracy score: 80.34%\n",
      "train and test time: 28.53s\n",
      "--------------------------------------------------------------------------------\n",
      "Validation result for 20000 features\n",
      "accuracy score: 80.77%\n",
      "train and test time: 32.31s\n",
      "--------------------------------------------------------------------------------\n",
      "Validation result for 30000 features\n",
      "accuracy score: 80.95%\n",
      "train and test time: 25.85s\n",
      "--------------------------------------------------------------------------------\n",
      "Validation result for 40000 features\n",
      "accuracy score: 81.09%\n",
      "train and test time: 24.52s\n",
      "--------------------------------------------------------------------------------\n",
      "Validation result for 50000 features\n",
      "accuracy score: 81.19%\n",
      "train and test time: 29.34s\n",
      "--------------------------------------------------------------------------------\n",
      "Validation result for 60000 features\n",
      "accuracy score: 81.27%\n",
      "train and test time: 29.00s\n",
      "--------------------------------------------------------------------------------\n",
      "Validation result for 70000 features\n",
      "accuracy score: 81.28%\n",
      "train and test time: 28.91s\n",
      "--------------------------------------------------------------------------------\n",
      "Validation result for 80000 features\n",
      "accuracy score: 81.25%\n",
      "train and test time: 27.57s\n",
      "--------------------------------------------------------------------------------\n",
      "Validation result for 90000 features\n",
      "accuracy score: 81.33%\n",
      "train and test time: 25.21s\n",
      "--------------------------------------------------------------------------------\n",
      "Validation result for 100000 features\n",
      "accuracy score: 81.36%\n",
      "train and test time: 35.48s\n",
      "--------------------------------------------------------------------------------\n"
     ]
    }
   ],
   "source": [
    "## logistic regression on TF-IDF and count vectorizer representations\n",
    "\n",
    "x_train, y_train, x_test, y_test= train.data, train.target, test.data, test.target\n",
    "\n",
    "def accuracy_summary(pipeline, x_train, y_train, x_test, y_test):\n",
    "    t0 = time()\n",
    "    sentiment_fit = pipeline.fit(x_train, y_train)\n",
    "    y_pred = sentiment_fit.predict(x_test)\n",
    "    train_test_time = time() - t0\n",
    "    accuracy = accuracy_score(y_test, y_pred)\n",
    "    print (\"accuracy score: {0:.2f}%\".format(accuracy*100))\n",
    "    print (\"train and test time: {0:.2f}s\".format(train_test_time))\n",
    "    print (\"-\"*80)\n",
    "    return accuracy, train_test_time\n",
    "\n",
    "cvec = CountVectorizer()\n",
    "lr = LogisticRegression(max_iter=1000)\n",
    "n_features = np.arange(10000,100001,10000)\n",
    "\n",
    "def nfeature_accuracy_checker(vectorizer=cvec, n_features=n_features, stop_words=None, ngram_range=(1, 1), classifier=lr):\n",
    "    result = []\n",
    "    print(classifier)\n",
    "    print (\"\\n\")\n",
    "    for n in n_features:\n",
    "        vectorizer.set_params(stop_words=stop_words, max_features=n, ngram_range=ngram_range)\n",
    "        checker_pipeline = Pipeline([('vectorizer', vectorizer),('classifier', classifier)])\n",
    "        print (\"Validation result for {} features\".format(n))\n",
    "        nfeature_accuracy,tt_time = accuracy_summary(checker_pipeline, x_train, y_train, x_test, y_test)\n",
    "        result.append((n,nfeature_accuracy,tt_time))\n",
    "    \n",
    "    return result\n",
    "\n",
    "tvec = TfidfVectorizer()\n",
    "\n",
    "feature_result_ugt = nfeature_accuracy_checker(vectorizer=tvec)\n",
    "feature_result_bgt = nfeature_accuracy_checker(vectorizer=tvec,ngram_range=(1, 2))\n",
    "feature_result_tgt = nfeature_accuracy_checker(vectorizer=tvec,ngram_range=(1, 3))"
   ]
  },
  {
   "cell_type": "code",
   "execution_count": 12,
   "metadata": {},
   "outputs": [
    {
     "name": "stdout",
     "output_type": "stream",
     "text": [
      "LogisticRegression(max_iter=1000)\n",
      "\n",
      "\n",
      "Validation result for 10000 features\n",
      "accuracy score: 80.10%\n",
      "train and test time: 18.64s\n",
      "--------------------------------------------------------------------------------\n",
      "Validation result for 20000 features\n",
      "accuracy score: 80.30%\n",
      "train and test time: 19.61s\n",
      "--------------------------------------------------------------------------------\n",
      "Validation result for 30000 features\n",
      "accuracy score: 80.37%\n",
      "train and test time: 20.12s\n",
      "--------------------------------------------------------------------------------\n",
      "Validation result for 40000 features\n",
      "accuracy score: 80.41%\n",
      "train and test time: 22.46s\n",
      "--------------------------------------------------------------------------------\n",
      "Validation result for 50000 features\n",
      "accuracy score: 80.41%\n",
      "train and test time: 23.42s\n",
      "--------------------------------------------------------------------------------\n",
      "Validation result for 60000 features\n",
      "accuracy score: 80.39%\n",
      "train and test time: 24.89s\n",
      "--------------------------------------------------------------------------------\n",
      "Validation result for 70000 features\n",
      "accuracy score: 80.43%\n",
      "train and test time: 23.96s\n",
      "--------------------------------------------------------------------------------\n",
      "Validation result for 80000 features\n",
      "accuracy score: 80.41%\n",
      "train and test time: 26.04s\n",
      "--------------------------------------------------------------------------------\n",
      "Validation result for 90000 features\n",
      "accuracy score: 80.42%\n",
      "train and test time: 27.04s\n",
      "--------------------------------------------------------------------------------\n",
      "Validation result for 100000 features\n",
      "accuracy score: 80.42%\n",
      "train and test time: 26.96s\n",
      "--------------------------------------------------------------------------------\n",
      "LogisticRegression(max_iter=1000)\n",
      "\n",
      "\n",
      "Validation result for 10000 features\n",
      "accuracy score: 80.50%\n",
      "train and test time: 27.03s\n",
      "--------------------------------------------------------------------------------\n",
      "Validation result for 20000 features\n",
      "accuracy score: 81.02%\n",
      "train and test time: 26.92s\n",
      "--------------------------------------------------------------------------------\n",
      "Validation result for 30000 features\n",
      "accuracy score: 81.04%\n",
      "train and test time: 29.39s\n",
      "--------------------------------------------------------------------------------\n",
      "Validation result for 40000 features\n",
      "accuracy score: 81.10%\n",
      "train and test time: 28.61s\n",
      "--------------------------------------------------------------------------------\n",
      "Validation result for 50000 features\n",
      "accuracy score: 81.16%\n",
      "train and test time: 32.16s\n",
      "--------------------------------------------------------------------------------\n",
      "Validation result for 60000 features\n",
      "accuracy score: 81.13%\n",
      "train and test time: 32.13s\n",
      "--------------------------------------------------------------------------------\n",
      "Validation result for 70000 features\n",
      "accuracy score: 81.21%\n",
      "train and test time: 34.43s\n",
      "--------------------------------------------------------------------------------\n",
      "Validation result for 80000 features\n",
      "accuracy score: 81.18%\n",
      "train and test time: 33.13s\n",
      "--------------------------------------------------------------------------------\n",
      "Validation result for 90000 features\n",
      "accuracy score: 81.18%\n",
      "train and test time: 35.62s\n",
      "--------------------------------------------------------------------------------\n",
      "Validation result for 100000 features\n",
      "accuracy score: 81.26%\n",
      "train and test time: 34.86s\n",
      "--------------------------------------------------------------------------------\n",
      "LogisticRegression(max_iter=1000)\n",
      "\n",
      "\n",
      "Validation result for 10000 features\n",
      "accuracy score: 80.48%\n",
      "train and test time: 32.85s\n",
      "--------------------------------------------------------------------------------\n",
      "Validation result for 20000 features\n",
      "accuracy score: 80.94%\n",
      "train and test time: 33.75s\n",
      "--------------------------------------------------------------------------------\n",
      "Validation result for 30000 features\n",
      "accuracy score: 80.99%\n",
      "train and test time: 36.64s\n",
      "--------------------------------------------------------------------------------\n",
      "Validation result for 40000 features\n",
      "accuracy score: 81.13%\n",
      "train and test time: 38.73s\n",
      "--------------------------------------------------------------------------------\n",
      "Validation result for 50000 features\n",
      "accuracy score: 81.19%\n",
      "train and test time: 37.53s\n",
      "--------------------------------------------------------------------------------\n",
      "Validation result for 60000 features\n",
      "accuracy score: 81.17%\n",
      "train and test time: 40.24s\n",
      "--------------------------------------------------------------------------------\n",
      "Validation result for 70000 features\n",
      "accuracy score: 81.24%\n",
      "train and test time: 41.95s\n",
      "--------------------------------------------------------------------------------\n",
      "Validation result for 80000 features\n",
      "accuracy score: 81.30%\n",
      "train and test time: 41.91s\n",
      "--------------------------------------------------------------------------------\n",
      "Validation result for 90000 features\n",
      "accuracy score: 81.28%\n",
      "train and test time: 42.48s\n",
      "--------------------------------------------------------------------------------\n",
      "Validation result for 100000 features\n",
      "accuracy score: 81.27%\n",
      "train and test time: 44.37s\n",
      "--------------------------------------------------------------------------------\n"
     ]
    }
   ],
   "source": [
    "feature_result_ug = nfeature_accuracy_checker(vectorizer=cvec)\n",
    "feature_result_bg = nfeature_accuracy_checker(vectorizer=cvec,ngram_range=(1, 2))\n",
    "feature_result_tg  = nfeature_accuracy_checker(vectorizer=cvec,ngram_range=(1, 3))"
   ]
  },
  {
   "cell_type": "code",
   "execution_count": 13,
   "metadata": {},
   "outputs": [
    {
     "data": {
      "image/png": "[encoded data removed]",
      "text/plain": [
       "<Figure size 576x432 with 1 Axes>"
      ]
     },
     "metadata": {
      "needs_background": "light"
     },
     "output_type": "display_data"
    }
   ],
   "source": [
    "## visualization of the n-gram tfidf vectorizer and n-gram count vectorizer, for different values of n\n",
    "\n",
    "nfeatures_plot_tgt = pd.DataFrame(feature_result_tgt,columns=['nfeatures','validation_accuracy','train_test_time'])\n",
    "nfeatures_plot_bgt = pd.DataFrame(feature_result_bgt,columns=['nfeatures','validation_accuracy','train_test_time'])\n",
    "nfeatures_plot_ugt = pd.DataFrame(feature_result_ugt,columns=['nfeatures','validation_accuracy','train_test_time'])\n",
    "nfeatures_plot_tg = pd.DataFrame(feature_result_tg,columns=['nfeatures','validation_accuracy','train_test_time'])\n",
    "nfeatures_plot_bg = pd.DataFrame(feature_result_bg,columns=['nfeatures','validation_accuracy','train_test_time'])\n",
    "nfeatures_plot_ug = pd.DataFrame(feature_result_ug,columns=['nfeatures','validation_accuracy','train_test_time'])\n",
    "plt.figure(figsize=(8,6))\n",
    "plt.plot(nfeatures_plot_tgt.nfeatures, nfeatures_plot_tgt.validation_accuracy,label='trigram tfidf vectorizer',color='royalblue')\n",
    "plt.plot(nfeatures_plot_tg.nfeatures, nfeatures_plot_tg.validation_accuracy,label='trigram count vectorizer',linestyle=':', color='royalblue')\n",
    "plt.plot(nfeatures_plot_bgt.nfeatures, nfeatures_plot_bgt.validation_accuracy,label='bigram tfidf vectorizer',color='orangered')\n",
    "plt.plot(nfeatures_plot_bg.nfeatures, nfeatures_plot_bg.validation_accuracy,label='bigram count vectorizer',linestyle=':',color='orangered')\n",
    "plt.plot(nfeatures_plot_ugt.nfeatures, nfeatures_plot_ugt.validation_accuracy, label='unigram tfidf vectorizer',color='gold')\n",
    "plt.plot(nfeatures_plot_ug.nfeatures, nfeatures_plot_ug.validation_accuracy, label='unigram count vectorizer',linestyle=':',color='gold')\n",
    "plt.title(\"N-gram(1~3) test result : Accuracy\")\n",
    "plt.xlabel(\"Number of features\")\n",
    "plt.ylabel(\"Validation set accuracy\")\n",
    "plt.legend()\n",
    "plt.show()"
   ]
  },
  {
   "cell_type": "markdown",
   "metadata": {},
   "source": [
    "As we can see, the validation set accuracy is much lower for unigram tfidf and count vectorizer. \n",
    "However, for bi- and tri-gram vectorizers, the accuracies are way higher and increase for an increase in the number of features."
   ]
  },
  {
   "cell_type": "code",
   "execution_count": 91,
   "metadata": {},
   "outputs": [],
   "source": [
    "with open('twitter-datasets/test_data.txt') as f:\n",
    "    real_test = f.readlines()\n",
    "        \n",
    "real_test={'data':real_test}\n",
    "real_test=pd.DataFrame(real_test)"
   ]
  },
  {
   "cell_type": "code",
   "execution_count": 93,
   "metadata": {},
   "outputs": [],
   "source": [
    "real_test.data=pre_process(real_test.data)"
   ]
  },
  {
   "cell_type": "code",
   "execution_count": 94,
   "metadata": {},
   "outputs": [],
   "source": [
    "vectorizer = TfidfVectorizer()\n",
    "lr = LogisticRegression(max_iter=1000)\n",
    "vectorizer.set_params(stop_words=None, max_features=100000, ngram_range=(1,3))\n",
    "checker_pipeline = Pipeline([('vectorizer', vectorizer),('classifier', lr)])\n",
    "sentiment_fit = checker_pipeline.fit(full_train.data, full_train.target)"
   ]
  },
  {
   "cell_type": "code",
   "execution_count": 95,
   "metadata": {},
   "outputs": [],
   "source": [
    "y_pred = sentiment_fit.predict(real_test.data)"
   ]
  },
  {
   "cell_type": "code",
   "execution_count": 96,
   "metadata": {},
   "outputs": [
    {
     "data": {
      "text/plain": [
       "array([':(', ':(', ':(', ..., ':(', ':)', ':('], dtype=object)"
      ]
     },
     "execution_count": 96,
     "metadata": {},
     "output_type": "execute_result"
    }
   ],
   "source": [
    "y_pred"
   ]
  },
  {
   "cell_type": "markdown",
   "metadata": {},
   "source": [
    "### Other models with TF-IDF"
   ]
  },
  {
   "cell_type": "code",
   "execution_count": 14,
   "metadata": {},
   "outputs": [],
   "source": [
    "## training of several simple models of names in 'names'\n",
    "names = [\"Linear SVC\", \"LinearSVC with L1-based feature selection\", \n",
    "         \"Bernoulli NB\", \"Ridge Classifier\", \"Nearest Centroid\"]\n",
    "classifiers = [\n",
    "    LinearSVC(),\n",
    "    Pipeline([\n",
    "  ('feature_selection', SelectFromModel(LinearSVC(penalty=\"l1\", dual=False))),\n",
    "  ('classification', LinearSVC(penalty=\"l2\"))]),\n",
    "    BernoulliNB(),\n",
    "    RidgeClassifier(),\n",
    "    NearestCentroid(),\n",
    "   ]\n",
    "\n",
    "zipped_clf = zip(names,classifiers)\n",
    "n=90000\n",
    "\n",
    "tvec = TfidfVectorizer()"
   ]
  },
  {
   "cell_type": "code",
   "execution_count": 15,
   "metadata": {},
   "outputs": [],
   "source": [
    "def classifier_comparator(vectorizer=tvec, n_features=10000, stop_words=None, ngram_range=(1, 1), classifier=zipped_clf):\n",
    "    result = []\n",
    "    vectorizer.set_params(stop_words=stop_words, max_features=n_features, ngram_range=ngram_range)\n",
    "    for n,c in classifier:\n",
    "        checker_pipeline = Pipeline([\n",
    "            ('vectorizer', vectorizer),\n",
    "            ('classifier', c)\n",
    "        ])\n",
    "        print (\"Validation result for {}\".format(n))\n",
    "        print (c)\n",
    "        clf_accuracy,tt_time = accuracy_summary(checker_pipeline, x_train, y_train, x_test, y_test)\n",
    "        result.append((n_features,clf_accuracy,tt_time))\n",
    "    return result"
   ]
  },
  {
   "cell_type": "code",
   "execution_count": 16,
   "metadata": {},
   "outputs": [
    {
     "name": "stdout",
     "output_type": "stream",
     "text": [
      "Validation result for Linear SVC\n",
      "LinearSVC()\n",
      "accuracy score: 80.69%\n",
      "train and test time: 22.89s\n",
      "--------------------------------------------------------------------------------\n",
      "Validation result for LinearSVC with L1-based feature selection\n",
      "Pipeline(steps=[('feature_selection',\n",
      "                 SelectFromModel(estimator=LinearSVC(dual=False,\n",
      "                                                     penalty='l1'))),\n",
      "                ('classification', LinearSVC())])\n",
      "accuracy score: 80.87%\n",
      "train and test time: 43.67s\n",
      "--------------------------------------------------------------------------------\n",
      "Validation result for Bernoulli NB\n",
      "BernoulliNB()\n",
      "accuracy score: 78.16%\n",
      "train and test time: 20.36s\n",
      "--------------------------------------------------------------------------------\n",
      "Validation result for Ridge Classifier\n",
      "RidgeClassifier()\n",
      "accuracy score: 81.21%\n",
      "train and test time: 22.79s\n",
      "--------------------------------------------------------------------------------\n",
      "Validation result for Nearest Centroid\n",
      "NearestCentroid()\n",
      "accuracy score: 69.46%\n",
      "train and test time: 20.80s\n",
      "--------------------------------------------------------------------------------\n"
     ]
    }
   ],
   "source": [
    "trigram_result = classifier_comparator(n_features=100000,ngram_range=(1,3))"
   ]
  },
  {
   "cell_type": "markdown",
   "metadata": {},
   "source": [
    "## Create submission"
   ]
  },
  {
   "cell_type": "code",
   "execution_count": 86,
   "metadata": {},
   "outputs": [
    {
     "data": {
      "text/plain": [
       "RangeIndex(start=0, stop=100000, step=1)"
      ]
     },
     "execution_count": 86,
     "metadata": {},
     "output_type": "execute_result"
    }
   ],
   "source": [
    "real_test.index"
   ]
  },
  {
   "cell_type": "code",
   "execution_count": 99,
   "metadata": {},
   "outputs": [],
   "source": [
    "import re\n",
    "ids=[]   \n",
    "for i in range (real_test.shape[0]):\n",
    "    text=real_test.data[i]\n",
    "    found=re.findall('\\d+', text )\n",
    "    ids.append(found[0])"
   ]
  },
  {
   "cell_type": "code",
   "execution_count": 100,
   "metadata": {},
   "outputs": [],
   "source": [
    "OUTPUT_PATH = 'sample_submission.csv' \n",
    "create_csv_submission(ids, y_pred, OUTPUT_PATH)"
   ]
  },
  {
   "cell_type": "code",
   "execution_count": null,
   "metadata": {},
   "outputs": [],
   "source": []
  }
 ],
 "metadata": {
  "kernelspec": {
   "display_name": "Python 3",
   "language": "python",
   "name": "python3"
  },
  "language_info": {
   "codemirror_mode": {
    "name": "ipython",
    "version": 3
   },
   "file_extension": ".py",
   "mimetype": "text/x-python",
   "name": "python",
   "nbconvert_exporter": "python",
   "pygments_lexer": "ipython3",
   "version": "3.8.5"
  }
 },
 "nbformat": 4,
 "nbformat_minor": 4
}
