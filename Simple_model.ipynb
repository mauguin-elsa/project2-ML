{
 "cells": [
  {
   "cell_type": "code",
   "execution_count": 2,
   "metadata": {},
   "outputs": [],
   "source": [
    "# Useful starting lines\n",
    "%matplotlib inline\n",
    "import numpy as np\n",
    "import matplotlib.pyplot as plt\n",
    "\n",
    "%load_ext autoreload\n",
    "%autoreload 2\n",
    "import pandas as pd"
   ]
  },
  {
   "cell_type": "markdown",
   "metadata": {},
   "source": [
    "### Simple models\n",
    "In this file, we tried to train our model very simply, without advanced techniques to encode the tweets."
   ]
  },
  {
   "cell_type": "code",
   "execution_count": 3,
   "metadata": {},
   "outputs": [],
   "source": [
    "from cooc import *\n",
    "#rom glove_template import *\n",
    "from pickle_vocab import *\n",
    "from preprocessing import pre_process\n",
    "from helpers import *"
   ]
  },
  {
   "cell_type": "code",
   "execution_count": 4,
   "metadata": {},
   "outputs": [],
   "source": [
    "# creating training data\n",
    "full_train=load_data()"
   ]
  },
  {
   "cell_type": "code",
   "execution_count": 5,
   "metadata": {},
   "outputs": [
    {
     "data": {
      "text/html": [
       "<div>\n",
       "<style scoped>\n",
       "    .dataframe tbody tr th:only-of-type {\n",
       "        vertical-align: middle;\n",
       "    }\n",
       "\n",
       "    .dataframe tbody tr th {\n",
       "        vertical-align: top;\n",
       "    }\n",
       "\n",
       "    .dataframe thead th {\n",
       "        text-align: right;\n",
       "    }\n",
       "</style>\n",
       "<table border=\"1\" class=\"dataframe\">\n",
       "  <thead>\n",
       "    <tr style=\"text-align: right;\">\n",
       "      <th></th>\n",
       "      <th>data</th>\n",
       "      <th>target</th>\n",
       "    </tr>\n",
       "  </thead>\n",
       "  <tbody>\n",
       "    <tr>\n",
       "      <th>190064</th>\n",
       "      <td>kohinoor rice &amp; curry , pindi chana masala wit...</td>\n",
       "      <td>:(</td>\n",
       "    </tr>\n",
       "    <tr>\n",
       "      <th>56514</th>\n",
       "      <td>&lt;url&gt; i love this song hear it right now\\n</td>\n",
       "      <td>:)</td>\n",
       "    </tr>\n",
       "    <tr>\n",
       "      <th>53004</th>\n",
       "      <td>my younger sister wakes up every morning at 6 ...</td>\n",
       "      <td>:)</td>\n",
       "    </tr>\n",
       "    <tr>\n",
       "      <th>102643</th>\n",
       "      <td>mainstreaming midwives : the politics of chang...</td>\n",
       "      <td>:(</td>\n",
       "    </tr>\n",
       "    <tr>\n",
       "      <th>187965</th>\n",
       "      <td>12x27 custom picture frame / poster frame . 88...</td>\n",
       "      <td>:(</td>\n",
       "    </tr>\n",
       "  </tbody>\n",
       "</table>\n",
       "</div>"
      ],
      "text/plain": [
       "                                                     data target\n",
       "190064  kohinoor rice & curry , pindi chana masala wit...     :(\n",
       "56514          <url> i love this song hear it right now\\n     :)\n",
       "53004   my younger sister wakes up every morning at 6 ...     :)\n",
       "102643  mainstreaming midwives : the politics of chang...     :(\n",
       "187965  12x27 custom picture frame / poster frame . 88...     :("
      ]
     },
     "execution_count": 5,
     "metadata": {},
     "output_type": "execute_result"
    }
   ],
   "source": [
    "full_train.sample(5)"
   ]
  },
  {
   "cell_type": "code",
   "execution_count": 6,
   "metadata": {},
   "outputs": [],
   "source": [
    "from sklearn.model_selection import train_test_split\n",
    "\n",
    "train , test=train_test_split(full_train)"
   ]
  },
  {
   "cell_type": "markdown",
   "metadata": {},
   "source": [
    "### Bayes Classifier"
   ]
  },
  {
   "cell_type": "code",
   "execution_count": 7,
   "metadata": {},
   "outputs": [
    {
     "data": {
      "text/plain": [
       "(150000, 85161)"
      ]
     },
     "execution_count": 7,
     "metadata": {},
     "output_type": "execute_result"
    }
   ],
   "source": [
    "# Extracting features from text files\n",
    "from sklearn.feature_extraction.text import CountVectorizer\n",
    "count_vect = CountVectorizer()\n",
    "X_train_counts = count_vect.fit_transform(train.data)\n",
    "X_train_counts.shape"
   ]
  },
  {
   "cell_type": "code",
   "execution_count": 8,
   "metadata": {},
   "outputs": [
    {
     "data": {
      "text/plain": [
       "(150000, 85161)"
      ]
     },
     "execution_count": 8,
     "metadata": {},
     "output_type": "execute_result"
    }
   ],
   "source": [
    "# TF-IDF\n",
    "from sklearn.feature_extraction.text import TfidfTransformer\n",
    "tfidf_transformer = TfidfTransformer()\n",
    "X_train_tfidf = tfidf_transformer.fit_transform(X_train_counts)\n",
    "X_train_tfidf.shape"
   ]
  },
  {
   "cell_type": "code",
   "execution_count": 9,
   "metadata": {},
   "outputs": [],
   "source": [
    "# Training Naive Bayes (NB) classifier on training data.\n",
    "from sklearn.naive_bayes import MultinomialNB\n",
    "clf = MultinomialNB().fit(X_train_tfidf, train.target)"
   ]
  },
  {
   "cell_type": "code",
   "execution_count": 10,
   "metadata": {},
   "outputs": [],
   "source": [
    "from sklearn.pipeline import Pipeline\n",
    "\n",
    "text_clf = Pipeline([('vect', CountVectorizer()), ('tfidf', TfidfTransformer()), ('clf', MultinomialNB())])\n",
    "\n",
    "text_clf = text_clf.fit(train.data, train.target)"
   ]
  },
  {
   "cell_type": "code",
   "execution_count": 13,
   "metadata": {},
   "outputs": [
    {
     "name": "stdout",
     "output_type": "stream",
     "text": [
      "Accuracy of Naive Bayes CLassifier:  0.76564\n"
     ]
    }
   ],
   "source": [
    "predicted = text_clf.predict(test.data)\n",
    "print('Accuracy of Naive Bayes CLassifier: ', np.mean(predicted == test.target))"
   ]
  },
  {
   "cell_type": "markdown",
   "metadata": {},
   "source": [
    "### SVM"
   ]
  },
  {
   "cell_type": "code",
   "execution_count": 14,
   "metadata": {},
   "outputs": [
    {
     "name": "stdout",
     "output_type": "stream",
     "text": [
      "Accuracy of Support Vector Machine model:  0.81362\n"
     ]
    }
   ],
   "source": [
    "from sklearn.linear_model import SGDClassifier\n",
    "\n",
    "text_clf_svm = Pipeline([('vect', CountVectorizer()), ('tfidf', TfidfTransformer()),\n",
    "                         ('clf-svm', SGDClassifier(loss='hinge', penalty='l2',alpha=1e-5, max_iter=100, random_state=42))])\n",
    "\n",
    "text_clf_svm = text_clf_svm.fit(train.data, train.target)\n",
    "predicted_svm = text_clf_svm.predict(test.data)\n",
    "print('Accuracy of Support Vector Machine model: ',np.mean(predicted_svm == test.target))"
   ]
  },
  {
   "cell_type": "markdown",
   "metadata": {},
   "source": [
    "For both models, we got quite good accuracy, especially for SVM. Theses models are interesting as they are very simple and efficient."
   ]
  },
  {
   "cell_type": "markdown",
   "metadata": {},
   "source": [
    "### Logistic regression TF-IDF and Count Vectorizer\n"
   ]
  },
  {
   "cell_type": "code",
   "execution_count": 12,
   "metadata": {},
   "outputs": [
    {
     "name": "stdout",
     "output_type": "stream",
     "text": [
      "LogisticRegression(max_iter=1000)\n",
      "\n",
      "\n",
      "Validation result for 10000 features\n",
      "accuracy score: 80.66%\n",
      "train and test time: 6.80s\n",
      "--------------------------------------------------------------------------------\n",
      "Validation result for 20000 features\n",
      "accuracy score: 80.87%\n",
      "train and test time: 6.59s\n",
      "--------------------------------------------------------------------------------\n",
      "Validation result for 30000 features\n",
      "accuracy score: 80.89%\n",
      "train and test time: 7.89s\n",
      "--------------------------------------------------------------------------------\n",
      "Validation result for 40000 features\n",
      "accuracy score: 80.86%\n",
      "train and test time: 7.70s\n",
      "--------------------------------------------------------------------------------\n",
      "Validation result for 50000 features\n",
      "accuracy score: 80.88%\n",
      "train and test time: 6.18s\n",
      "--------------------------------------------------------------------------------\n",
      "Validation result for 60000 features\n",
      "accuracy score: 80.85%\n",
      "train and test time: 6.78s\n",
      "--------------------------------------------------------------------------------\n",
      "Validation result for 70000 features\n",
      "accuracy score: 80.89%\n",
      "train and test time: 7.60s\n",
      "--------------------------------------------------------------------------------\n",
      "Validation result for 80000 features\n",
      "accuracy score: 80.89%\n",
      "train and test time: 7.33s\n",
      "--------------------------------------------------------------------------------\n",
      "Validation result for 90000 features\n",
      "accuracy score: 80.90%\n",
      "train and test time: 7.58s\n",
      "--------------------------------------------------------------------------------\n",
      "Validation result for 100000 features\n",
      "accuracy score: 80.90%\n",
      "train and test time: 8.13s\n",
      "--------------------------------------------------------------------------------\n",
      "LogisticRegression(max_iter=1000)\n",
      "\n",
      "\n",
      "Validation result for 10000 features\n",
      "accuracy score: 81.69%\n",
      "train and test time: 10.22s\n",
      "--------------------------------------------------------------------------------\n",
      "Validation result for 20000 features\n",
      "accuracy score: 82.24%\n",
      "train and test time: 12.30s\n",
      "--------------------------------------------------------------------------------\n",
      "Validation result for 30000 features\n",
      "accuracy score: 82.39%\n",
      "train and test time: 12.68s\n",
      "--------------------------------------------------------------------------------\n",
      "Validation result for 40000 features\n",
      "accuracy score: 82.48%\n",
      "train and test time: 13.92s\n",
      "--------------------------------------------------------------------------------\n",
      "Validation result for 50000 features\n",
      "accuracy score: 82.52%\n",
      "train and test time: 11.25s\n",
      "--------------------------------------------------------------------------------\n",
      "Validation result for 60000 features\n",
      "accuracy score: 82.53%\n",
      "train and test time: 10.08s\n",
      "--------------------------------------------------------------------------------\n",
      "Validation result for 70000 features\n",
      "accuracy score: 82.54%\n",
      "train and test time: 11.76s\n",
      "--------------------------------------------------------------------------------\n",
      "Validation result for 80000 features\n",
      "accuracy score: 82.55%\n",
      "train and test time: 10.50s\n",
      "--------------------------------------------------------------------------------\n",
      "Validation result for 90000 features\n",
      "accuracy score: 82.57%\n",
      "train and test time: 12.05s\n",
      "--------------------------------------------------------------------------------\n",
      "Validation result for 100000 features\n",
      "accuracy score: 82.58%\n",
      "train and test time: 11.90s\n",
      "--------------------------------------------------------------------------------\n",
      "LogisticRegression(max_iter=1000)\n",
      "\n",
      "\n",
      "Validation result for 10000 features\n",
      "accuracy score: 81.48%\n",
      "train and test time: 17.06s\n",
      "--------------------------------------------------------------------------------\n",
      "Validation result for 20000 features\n",
      "accuracy score: 82.13%\n",
      "train and test time: 16.96s\n",
      "--------------------------------------------------------------------------------\n",
      "Validation result for 30000 features\n",
      "accuracy score: 82.40%\n",
      "train and test time: 19.56s\n",
      "--------------------------------------------------------------------------------\n",
      "Validation result for 40000 features\n",
      "accuracy score: 82.51%\n",
      "train and test time: 17.05s\n",
      "--------------------------------------------------------------------------------\n",
      "Validation result for 50000 features\n",
      "accuracy score: 82.47%\n",
      "train and test time: 16.56s\n",
      "--------------------------------------------------------------------------------\n",
      "Validation result for 60000 features\n",
      "accuracy score: 82.55%\n",
      "train and test time: 15.89s\n",
      "--------------------------------------------------------------------------------\n",
      "Validation result for 70000 features\n",
      "accuracy score: 82.54%\n",
      "train and test time: 16.60s\n",
      "--------------------------------------------------------------------------------\n",
      "Validation result for 80000 features\n",
      "accuracy score: 82.55%\n",
      "train and test time: 16.04s\n",
      "--------------------------------------------------------------------------------\n",
      "Validation result for 90000 features\n",
      "accuracy score: 82.62%\n",
      "train and test time: 16.63s\n",
      "--------------------------------------------------------------------------------\n",
      "Validation result for 100000 features\n",
      "accuracy score: 82.62%\n",
      "train and test time: 17.98s\n",
      "--------------------------------------------------------------------------------\n"
     ]
    },
    {
     "data": {
      "text/plain": [
       "'\"\"\\nnfeatures_plot_tgt = pd.DataFrame(feature_result_tgt,columns=[\\'nfeatures\\',\\'validation_accuracy\\',\\'train_test_time\\'])\\nnfeatures_plot_bgt = pd.DataFrame(feature_result_bgt,columns=[\\'nfeatures\\',\\'validation_accuracy\\',\\'train_test_time\\'])\\nnfeatures_plot_ugt = pd.DataFrame(feature_result_ugt,columns=[\\'nfeatures\\',\\'validation_accuracy\\',\\'train_test_time\\'])\\nplt.figure(figsize=(8,6))\\nplt.plot(nfeatures_plot_tgt.nfeatures, nfeatures_plot_tgt.validation_accuracy,label=\\'trigram tfidf vectorizer\\',color=\\'royalblue\\')\\nplt.plot(nfeatures_plot_tg.nfeatures, nfeatures_plot_tg.validation_accuracy,label=\\'trigram count vectorizer\\',linestyle=\\':\\', color=\\'royalblue\\')\\nplt.plot(nfeatures_plot_bgt.nfeatures, nfeatures_plot_bgt.validation_accuracy,label=\\'bigram tfidf vectorizer\\',color=\\'orangered\\')\\nplt.plot(nfeatures_plot_bg.nfeatures, nfeatures_plot_bg.validation_accuracy,label=\\'bigram count vectorizer\\',linestyle=\\':\\',color=\\'orangered\\')\\nplt.plot(nfeatures_plot_ugt.nfeatures, nfeatures_plot_ugt.validation_accuracy, label=\\'unigram tfidf vectorizer\\',color=\\'gold\\')\\nplt.plot(nfeatures_plot_ug.nfeatures, nfeatures_plot_ug.validation_accuracy, label=\\'unigram count vectorizer\\',linestyle=\\':\\',color=\\'gold\\')\\nplt.title(\"N-gram(1~3) test result : Accuracy\")\\nplt.xlabel(\"Number of features\")\\nplt.ylabel(\"Validation set accuracy\")\\nplt.legend()\\n'"
      ]
     },
     "execution_count": 12,
     "metadata": {},
     "output_type": "execute_result"
    }
   ],
   "source": [
    "from sklearn.feature_extraction.text import CountVectorizer\n",
    "from sklearn.linear_model import LogisticRegression\n",
    "from sklearn.pipeline import Pipeline\n",
    "from time import time\n",
    "from sklearn.metrics import accuracy_score\n",
    "\n",
    "x_train, y_train, x_test, y_test= train.data, train.target, test.data, test.target\n",
    "\n",
    "def accuracy_summary(pipeline, x_train, y_train, x_test, y_test):\n",
    "    t0 = time()\n",
    "    sentiment_fit = pipeline.fit(x_train, y_train)\n",
    "    y_pred = sentiment_fit.predict(x_test)\n",
    "    train_test_time = time() - t0\n",
    "    accuracy = accuracy_score(y_test, y_pred)\n",
    "    print (\"accuracy score: {0:.2f}%\".format(accuracy*100))\n",
    "    print (\"train and test time: {0:.2f}s\".format(train_test_time))\n",
    "    print (\"-\"*80)\n",
    "    return accuracy, train_test_time\n",
    "\n",
    "cvec = CountVectorizer()\n",
    "lr = LogisticRegression(max_iter=1000)\n",
    "n_features = np.arange(10000,100001,10000)\n",
    "#n=80000\n",
    "\n",
    "def nfeature_accuracy_checker(vectorizer=cvec, n_features=n_features, stop_words=None, ngram_range=(1, 1), classifier=lr):\n",
    "    result = []\n",
    "    print(classifier)\n",
    "    print (\"\\n\")\n",
    "    for n in n_features:\n",
    "        vectorizer.set_params(stop_words=stop_words, max_features=n, ngram_range=ngram_range)\n",
    "        checker_pipeline = Pipeline([('vectorizer', vectorizer),('classifier', classifier)])\n",
    "        print (\"Validation result for {} features\".format(n))\n",
    "        nfeature_accuracy,tt_time = accuracy_summary(checker_pipeline, x_train, y_train, x_test, y_test)\n",
    "        result.append((n,nfeature_accuracy,tt_time))\n",
    "    \n",
    "    return result\n",
    "\n",
    "from sklearn.feature_extraction.text import TfidfVectorizer\n",
    "tvec = TfidfVectorizer()\n",
    "\n",
    "feature_result_ugt = nfeature_accuracy_checker(vectorizer=tvec)\n",
    "feature_result_bgt = nfeature_accuracy_checker(vectorizer=tvec,ngram_range=(1, 2))\n",
    "feature_result_tgt = nfeature_accuracy_checker(vectorizer=tvec,ngram_range=(1, 3))"
   ]
  },
  {
   "cell_type": "code",
   "execution_count": 15,
   "metadata": {},
   "outputs": [
    {
     "name": "stdout",
     "output_type": "stream",
     "text": [
      "LogisticRegression(max_iter=1000)\n",
      "\n",
      "\n",
      "Validation result for 10000 features\n",
      "accuracy score: 80.63%\n",
      "train and test time: 10.79s\n",
      "--------------------------------------------------------------------------------\n",
      "Validation result for 20000 features\n",
      "accuracy score: 80.83%\n",
      "train and test time: 12.20s\n",
      "--------------------------------------------------------------------------------\n",
      "Validation result for 30000 features\n",
      "accuracy score: 80.93%\n",
      "train and test time: 14.38s\n",
      "--------------------------------------------------------------------------------\n",
      "Validation result for 40000 features\n",
      "accuracy score: 80.96%\n",
      "train and test time: 14.26s\n",
      "--------------------------------------------------------------------------------\n",
      "Validation result for 50000 features\n",
      "accuracy score: 80.97%\n",
      "train and test time: 15.84s\n",
      "--------------------------------------------------------------------------------\n",
      "Validation result for 60000 features\n",
      "accuracy score: 81.00%\n",
      "train and test time: 16.29s\n",
      "--------------------------------------------------------------------------------\n",
      "Validation result for 70000 features\n",
      "accuracy score: 81.01%\n",
      "train and test time: 16.64s\n",
      "--------------------------------------------------------------------------------\n",
      "Validation result for 80000 features\n",
      "accuracy score: 81.01%\n",
      "train and test time: 17.44s\n",
      "--------------------------------------------------------------------------------\n",
      "Validation result for 90000 features\n",
      "accuracy score: 81.02%\n",
      "train and test time: 18.13s\n",
      "--------------------------------------------------------------------------------\n",
      "Validation result for 100000 features\n",
      "accuracy score: 81.02%\n",
      "train and test time: 19.44s\n",
      "--------------------------------------------------------------------------------\n",
      "LogisticRegression(max_iter=1000)\n",
      "\n",
      "\n",
      "Validation result for 10000 features\n",
      "accuracy score: 81.58%\n",
      "train and test time: 17.83s\n",
      "--------------------------------------------------------------------------------\n",
      "Validation result for 20000 features\n",
      "accuracy score: 82.01%\n",
      "train and test time: 17.66s\n",
      "--------------------------------------------------------------------------------\n",
      "Validation result for 30000 features\n",
      "accuracy score: 82.18%\n",
      "train and test time: 19.25s\n",
      "--------------------------------------------------------------------------------\n",
      "Validation result for 40000 features\n",
      "accuracy score: 82.38%\n",
      "train and test time: 20.17s\n",
      "--------------------------------------------------------------------------------\n",
      "Validation result for 50000 features\n",
      "accuracy score: 82.41%\n",
      "train and test time: 23.80s\n",
      "--------------------------------------------------------------------------------\n",
      "Validation result for 60000 features\n",
      "accuracy score: 82.50%\n",
      "train and test time: 24.65s\n",
      "--------------------------------------------------------------------------------\n",
      "Validation result for 70000 features\n",
      "accuracy score: 82.48%\n",
      "train and test time: 26.24s\n",
      "--------------------------------------------------------------------------------\n",
      "Validation result for 80000 features\n",
      "accuracy score: 82.58%\n",
      "train and test time: 28.98s\n",
      "--------------------------------------------------------------------------------\n",
      "Validation result for 90000 features\n",
      "accuracy score: 82.58%\n",
      "train and test time: 25.26s\n",
      "--------------------------------------------------------------------------------\n",
      "Validation result for 100000 features\n",
      "accuracy score: 82.63%\n",
      "train and test time: 28.09s\n",
      "--------------------------------------------------------------------------------\n",
      "LogisticRegression(max_iter=1000)\n",
      "\n",
      "\n",
      "Validation result for 10000 features\n",
      "accuracy score: 81.38%\n",
      "train and test time: 22.57s\n",
      "--------------------------------------------------------------------------------\n",
      "Validation result for 20000 features\n",
      "accuracy score: 81.97%\n",
      "train and test time: 25.04s\n",
      "--------------------------------------------------------------------------------\n",
      "Validation result for 30000 features\n",
      "accuracy score: 82.02%\n",
      "train and test time: 25.48s\n",
      "--------------------------------------------------------------------------------\n",
      "Validation result for 40000 features\n",
      "accuracy score: 82.18%\n",
      "train and test time: 25.66s\n",
      "--------------------------------------------------------------------------------\n",
      "Validation result for 50000 features\n",
      "accuracy score: 82.36%\n",
      "train and test time: 26.33s\n",
      "--------------------------------------------------------------------------------\n",
      "Validation result for 60000 features\n",
      "accuracy score: 82.42%\n",
      "train and test time: 27.20s\n",
      "--------------------------------------------------------------------------------\n",
      "Validation result for 70000 features\n",
      "accuracy score: 82.52%\n",
      "train and test time: 31.87s\n",
      "--------------------------------------------------------------------------------\n",
      "Validation result for 80000 features\n",
      "accuracy score: 82.49%\n",
      "train and test time: 31.22s\n",
      "--------------------------------------------------------------------------------\n",
      "Validation result for 90000 features\n",
      "accuracy score: 82.53%\n",
      "train and test time: 32.73s\n",
      "--------------------------------------------------------------------------------\n",
      "Validation result for 100000 features\n",
      "accuracy score: 82.60%\n",
      "train and test time: 32.38s\n",
      "--------------------------------------------------------------------------------\n"
     ]
    }
   ],
   "source": [
    "feature_result_ug = nfeature_accuracy_checker(vectorizer=cvec)\n",
    "feature_result_bg = nfeature_accuracy_checker(vectorizer=cvec,ngram_range=(1, 2))\n",
    "feature_result_tg  = nfeature_accuracy_checker(vectorizer=cvec,ngram_range=(1, 3))"
   ]
  },
  {
   "cell_type": "code",
   "execution_count": 16,
   "metadata": {},
   "outputs": [
    {
     "data": {
      "text/plain": [
       "<matplotlib.legend.Legend at 0x22417668280>"
      ]
     },
     "execution_count": 16,
     "metadata": {},
     "output_type": "execute_result"
    },
    {
     "data": {
      "image/png": "[encoded data removed]",
      "text/plain": [
       "<Figure size 576x432 with 1 Axes>"
      ]
     },
     "metadata": {
      "needs_background": "light"
     },
     "output_type": "display_data"
    }
   ],
   "source": [
    "nfeatures_plot_tgt = pd.DataFrame(feature_result_tgt,columns=['nfeatures','validation_accuracy','train_test_time'])\n",
    "nfeatures_plot_bgt = pd.DataFrame(feature_result_bgt,columns=['nfeatures','validation_accuracy','train_test_time'])\n",
    "nfeatures_plot_ugt = pd.DataFrame(feature_result_ugt,columns=['nfeatures','validation_accuracy','train_test_time'])\n",
    "nfeatures_plot_tg = pd.DataFrame(feature_result_tg,columns=['nfeatures','validation_accuracy','train_test_time'])\n",
    "nfeatures_plot_bg = pd.DataFrame(feature_result_bg,columns=['nfeatures','validation_accuracy','train_test_time'])\n",
    "nfeatures_plot_ug = pd.DataFrame(feature_result_ug,columns=['nfeatures','validation_accuracy','train_test_time'])\n",
    "plt.figure(figsize=(8,6))\n",
    "plt.plot(nfeatures_plot_tgt.nfeatures, nfeatures_plot_tgt.validation_accuracy,label='trigram tfidf vectorizer',color='royalblue')\n",
    "plt.plot(nfeatures_plot_tg.nfeatures, nfeatures_plot_tg.validation_accuracy,label='trigram count vectorizer',linestyle=':', color='royalblue')\n",
    "plt.plot(nfeatures_plot_bgt.nfeatures, nfeatures_plot_bgt.validation_accuracy,label='bigram tfidf vectorizer',color='orangered')\n",
    "plt.plot(nfeatures_plot_bg.nfeatures, nfeatures_plot_bg.validation_accuracy,label='bigram count vectorizer',linestyle=':',color='orangered')\n",
    "plt.plot(nfeatures_plot_ugt.nfeatures, nfeatures_plot_ugt.validation_accuracy, label='unigram tfidf vectorizer',color='gold')\n",
    "plt.plot(nfeatures_plot_ug.nfeatures, nfeatures_plot_ug.validation_accuracy, label='unigram count vectorizer',linestyle=':',color='gold')\n",
    "plt.title(\"N-gram(1~3) test result : Accuracy\")\n",
    "plt.xlabel(\"Number of features\")\n",
    "plt.ylabel(\"Validation set accuracy\")\n",
    "plt.legend()\n"
   ]
  },
  {
   "cell_type": "markdown",
   "metadata": {},
   "source": [
    "### Other models with TF-IDF"
   ]
  },
  {
   "cell_type": "code",
   "execution_count": 21,
   "metadata": {},
   "outputs": [
    {
     "name": "stdout",
     "output_type": "stream",
     "text": [
      "Validation result for Logistic Regression\n",
      "LogisticRegression()\n",
      "accuracy score: 82.62%\n",
      "train and test time: 17.29s\n",
      "--------------------------------------------------------------------------------\n",
      "Validation result for Linear SVC\n",
      "LinearSVC()\n",
      "accuracy score: 82.34%\n",
      "train and test time: 18.36s\n",
      "--------------------------------------------------------------------------------\n",
      "Validation result for LinearSVC with L1-based feature selection\n",
      "Pipeline(steps=[('feature_selection',\n",
      "                 SelectFromModel(estimator=LinearSVC(dual=False,\n",
      "                                                     penalty='l1'))),\n",
      "                ('classification', LinearSVC())])\n",
      "accuracy score: 82.43%\n",
      "train and test time: 23.96s\n",
      "--------------------------------------------------------------------------------\n",
      "Validation result for Multinomial NB\n",
      "MultinomialNB()\n",
      "accuracy score: 80.26%\n",
      "train and test time: 14.88s\n",
      "--------------------------------------------------------------------------------\n",
      "Validation result for Bernoulli NB\n",
      "BernoulliNB()\n",
      "accuracy score: 78.58%\n",
      "train and test time: 14.14s\n",
      "--------------------------------------------------------------------------------\n",
      "Validation result for Ridge Classifier\n",
      "RidgeClassifier()\n",
      "accuracy score: 82.65%\n",
      "train and test time: 17.26s\n",
      "--------------------------------------------------------------------------------\n",
      "Validation result for AdaBoost\n",
      "AdaBoostClassifier()\n",
      "accuracy score: 71.29%\n",
      "train and test time: 50.38s\n",
      "--------------------------------------------------------------------------------\n",
      "Validation result for Perceptron\n",
      "Perceptron()\n",
      "accuracy score: 78.29%\n",
      "train and test time: 23.47s\n",
      "--------------------------------------------------------------------------------\n",
      "Validation result for Passive-Aggresive\n",
      "PassiveAggressiveClassifier()\n",
      "accuracy score: 78.15%\n",
      "train and test time: 19.95s\n",
      "--------------------------------------------------------------------------------\n",
      "Validation result for Nearest Centroid\n",
      "NearestCentroid()\n",
      "accuracy score: 69.54%\n",
      "train and test time: 15.33s\n",
      "--------------------------------------------------------------------------------\n"
     ]
    }
   ],
   "source": [
    "from sklearn.svm import LinearSVC\n",
    "from sklearn.ensemble import AdaBoostClassifier\n",
    "from sklearn.naive_bayes import MultinomialNB, BernoulliNB\n",
    "from sklearn.linear_model import RidgeClassifier\n",
    "from sklearn.linear_model import PassiveAggressiveClassifier\n",
    "from sklearn.linear_model import Perceptron\n",
    "from sklearn.neighbors import NearestCentroid\n",
    "from sklearn.feature_selection import SelectFromModel\n",
    "from sklearn.ensemble import GradientBoostingClassifier\n",
    "\n",
    "names = [\"Logistic Regression\", \"Linear SVC\", \"LinearSVC with L1-based feature selection\",\"Multinomial NB\", \n",
    "         \"Bernoulli NB\", \"Ridge Classifier\", \"AdaBoost\", \"Perceptron\",\"Passive-Aggresive\", \"Nearest Centroid\"]\n",
    "classifiers = [\n",
    "    LogisticRegression(),\n",
    "    LinearSVC(),\n",
    "    Pipeline([\n",
    "  ('feature_selection', SelectFromModel(LinearSVC(penalty=\"l1\", dual=False))),\n",
    "  ('classification', LinearSVC(penalty=\"l2\"))]),\n",
    "    MultinomialNB(),\n",
    "    BernoulliNB(),\n",
    "    RidgeClassifier(),\n",
    "    AdaBoostClassifier(),\n",
    "    Perceptron(),\n",
    "    PassiveAggressiveClassifier(),\n",
    "    NearestCentroid(),\n",
    "   ]\n",
    "\n",
    "zipped_clf = zip(names,classifiers)\n",
    "n=90000\n",
    "\n",
    "tvec = TfidfVectorizer()\n",
    "def classifier_comparator(vectorizer=tvec, n_features=10000, stop_words=None, ngram_range=(1, 1), classifier=zipped_clf):\n",
    "    result = []\n",
    "    vectorizer.set_params(stop_words=stop_words, max_features=n_features, ngram_range=ngram_range)\n",
    "    for n,c in classifier:\n",
    "        checker_pipeline = Pipeline([\n",
    "            ('vectorizer', vectorizer),\n",
    "            ('classifier', c)\n",
    "        ])\n",
    "        print (\"Validation result for {}\".format(n))\n",
    "        print (c)\n",
    "        clf_accuracy,tt_time = accuracy_summary(checker_pipeline, x_train, y_train, x_test, y_test)\n",
    "        result.append((n_features,clf_accuracy,tt_time))\n",
    "    return result\n",
    "\n",
    "trigram_result = classifier_comparator(n_features=100000,ngram_range=(1,3))"
   ]
  },
  {
   "cell_type": "code",
   "execution_count": null,
   "metadata": {},
   "outputs": [],
   "source": []
  }
 ],
 "metadata": {
  "kernelspec": {
   "display_name": "Python 3",
   "language": "python",
   "name": "python3"
  },
  "language_info": {
   "codemirror_mode": {
    "name": "ipython",
    "version": 3
   },
   "file_extension": ".py",
   "mimetype": "text/x-python",
   "name": "python",
   "nbconvert_exporter": "python",
   "pygments_lexer": "ipython3",
   "version": "3.8.5"
  }
 },
 "nbformat": 4,
 "nbformat_minor": 4
}
